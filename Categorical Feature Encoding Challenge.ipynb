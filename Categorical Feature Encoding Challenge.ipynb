{
 "cells": [
  {
   "cell_type": "markdown",
   "metadata": {},
   "source": [
    "## Competition description: \n",
    "\n",
    "Is there a cat in your dat?\n",
    "\n",
    "A common task in machine learning pipelines is encoding categorical variables for a given algorithm in a format that allows as much useful signal as possible to be captured.\n",
    "\n",
    "Because this is such a common task and important skill to master, we've put together a dataset that contains only categorical features, and includes:\n",
    "\n",
    "binary features\n",
    "low- and high-cardinality nominal features\n",
    "low- and high-cardinality ordinal features\n",
    "(potentially) cyclical features\n",
    "This Playground competition will give you the opportunity to try different encoding schemes for different algorithms to compare how they perform. We encourage you to share what you find with the community.\n",
    "\n",
    "If you're not sure how to get started, you can check out the Categorical Variables section of Kaggle's Intermediate Machine Learning course.\n",
    "\n",
    "Have Fun!"
   ]
  },
  {
   "cell_type": "markdown",
   "metadata": {},
   "source": [
    "# Intro\n",
    "\n",
    "Through this kernel,We are going to learn and try some of the most commonly used encoding techniques.As this competition mainly deals with encoding I hope that it would be a great time to refresh some the most common and effective encoding techniques currently in use.\n",
    "<p><font size=\"3\" color=\"#6c3483\">We will also run and test each of these encoding techniques in a simple logistic regression model and finally observe the performance of each type of encoding.</font></p>"
   ]
  },
  {
   "cell_type": "markdown",
   "metadata": {},
   "source": [
    "![](https://media.giphy.com/media/H4DjXQXamtTiIuCcRU/giphy.gif)"
   ]
  },
  {
   "cell_type": "markdown",
   "metadata": {},
   "source": [
    "# Library"
   ]
  },
  {
   "cell_type": "code",
   "execution_count": 11,
   "metadata": {},
   "outputs": [],
   "source": [
    "import pandas as pd\n",
    "import numpy as np\n",
    "import matplotlib.pyplot as plt\n",
    "from sklearn.model_selection import train_test_split\n",
    "from sklearn.linear_model import LogisticRegression\n",
    "from sklearn.metrics import accuracy_score\n",
    "from sklearn.model_selection import KFold\n",
    "from sklearn import base\n",
    "\n",
    "from sklearn.metrics import classification_report\n",
    "from sklearn.metrics import roc_curve\n",
    "from sklearn.metrics import auc\n",
    "\n",
    "#encoding packages\n",
    "\n",
    "from sklearn.preprocessing import LabelEncoder\n",
    "from sklearn.preprocessing import OneHotEncoder\n",
    "from sklearn.feature_extraction import FeatureHasher\n",
    "import seaborn as sns"
   ]
  },
  {
   "cell_type": "code",
   "execution_count": 2,
   "metadata": {},
   "outputs": [],
   "source": [
    "from sklearn import svm, tree, linear_model, neighbors, naive_bayes, ensemble, discriminant_analysis, gaussian_process\n",
    "from xgboost import XGBClassifier\n",
    "\n",
    "from sklearn.model_selection import train_test_split\n",
    "\n",
    "from sklearn.model_selection import GridSearchCV\n",
    "from sklearn.model_selection import KFold\n",
    "from sklearn.model_selection import cross_validate\n",
    "from sklearn.model_selection import cross_val_score\n",
    "from sklearn.ensemble import RandomForestClassifier\n",
    "from sklearn.tree import DecisionTreeClassifier\n",
    "from sklearn.ensemble import GradientBoostingClassifier\n",
    "import sklearn.model_selection as ms\n",
    "from lightgbm import LGBMClassifier\n",
    "import xgboost as xgb\n",
    "from sklearn.ensemble import ExtraTreesClassifier\n",
    "from sklearn.ensemble import VotingClassifier\n",
    "from sklearn.model_selection import StratifiedKFold\n",
    "\n",
    "from sklearn.svm import LinearSVC\n",
    "\n",
    "\n",
    "\n",
    "from sklearn import tree\n",
    "from sklearn import metrics\n",
    "from sklearn import ensemble\n",
    "from sklearn import linear_model \n",
    "from sklearn import naive_bayes \n",
    "\n",
    "from sklearn.base import BaseEstimator\n",
    "from sklearn.base import TransformerMixin\n",
    "from sklearn.pipeline import FeatureUnion\n",
    "\n",
    "from sklearn.linear_model import RidgeClassifier\n",
    "from sklearn.linear_model import SGDClassifier\n",
    "\n",
    "from sklearn.model_selection import GridSearchCV\n",
    "from sklearn.metrics import classification_report\n",
    "from sklearn.metrics import roc_curve\n",
    "from sklearn.metrics import auc\n",
    "\n",
    "\n",
    "import sys\n",
    "\n",
    "if not sys.warnoptions:\n",
    "    import warnings\n",
    "    warnings.simplefilter(\"ignore\")"
   ]
  },
  {
   "cell_type": "markdown",
   "metadata": {},
   "source": [
    "### Knowing our data"
   ]
  },
  {
   "cell_type": "code",
   "execution_count": 57,
   "metadata": {},
   "outputs": [],
   "source": [
    "train=pd.read_csv('train.csv')\n",
    "test=pd.read_csv('test.csv')\n",
    "sample=pd.read_csv('sample_submission.csv')"
   ]
  },
  {
   "cell_type": "code",
   "execution_count": 70,
   "metadata": {},
   "outputs": [
    {
     "name": "stdout",
     "output_type": "stream",
     "text": [
      "train data has 300000 row and 25 columns\n",
      "test data has 200000 row and 25 columns\n",
      "sample data has 200000 row and 25 columns\n"
     ]
    }
   ],
   "source": [
    "print('train data has {} row and {} columns'.format(train.shape[0], train.shape[1]))\n",
    "print('test data has {} row and {} columns'.format(test.shape[0], train.shape[1]) )\n",
    "print('sample data has {} row and {} columns'.format(sample.shape[0], train.shape[1]) )"
   ]
  },
  {
   "cell_type": "code",
   "execution_count": 10,
   "metadata": {},
   "outputs": [
    {
     "data": {
      "text/html": [
       "<div>\n",
       "<style scoped>\n",
       "    .dataframe tbody tr th:only-of-type {\n",
       "        vertical-align: middle;\n",
       "    }\n",
       "\n",
       "    .dataframe tbody tr th {\n",
       "        vertical-align: top;\n",
       "    }\n",
       "\n",
       "    .dataframe thead th {\n",
       "        text-align: right;\n",
       "    }\n",
       "</style>\n",
       "<table border=\"1\" class=\"dataframe\">\n",
       "  <thead>\n",
       "    <tr style=\"text-align: right;\">\n",
       "      <th></th>\n",
       "      <th>id</th>\n",
       "      <th>bin_0</th>\n",
       "      <th>bin_1</th>\n",
       "      <th>bin_2</th>\n",
       "      <th>bin_3</th>\n",
       "      <th>bin_4</th>\n",
       "      <th>nom_0</th>\n",
       "      <th>nom_1</th>\n",
       "      <th>nom_2</th>\n",
       "      <th>nom_3</th>\n",
       "      <th>...</th>\n",
       "      <th>nom_9</th>\n",
       "      <th>ord_0</th>\n",
       "      <th>ord_1</th>\n",
       "      <th>ord_2</th>\n",
       "      <th>ord_3</th>\n",
       "      <th>ord_4</th>\n",
       "      <th>ord_5</th>\n",
       "      <th>day</th>\n",
       "      <th>month</th>\n",
       "      <th>target</th>\n",
       "    </tr>\n",
       "  </thead>\n",
       "  <tbody>\n",
       "    <tr>\n",
       "      <th>0</th>\n",
       "      <td>0</td>\n",
       "      <td>0</td>\n",
       "      <td>0</td>\n",
       "      <td>0</td>\n",
       "      <td>T</td>\n",
       "      <td>Y</td>\n",
       "      <td>Green</td>\n",
       "      <td>Triangle</td>\n",
       "      <td>Snake</td>\n",
       "      <td>Finland</td>\n",
       "      <td>...</td>\n",
       "      <td>2f4cb3d51</td>\n",
       "      <td>2</td>\n",
       "      <td>Grandmaster</td>\n",
       "      <td>Cold</td>\n",
       "      <td>h</td>\n",
       "      <td>D</td>\n",
       "      <td>kr</td>\n",
       "      <td>2</td>\n",
       "      <td>2</td>\n",
       "      <td>0</td>\n",
       "    </tr>\n",
       "    <tr>\n",
       "      <th>1</th>\n",
       "      <td>1</td>\n",
       "      <td>0</td>\n",
       "      <td>1</td>\n",
       "      <td>0</td>\n",
       "      <td>T</td>\n",
       "      <td>Y</td>\n",
       "      <td>Green</td>\n",
       "      <td>Trapezoid</td>\n",
       "      <td>Hamster</td>\n",
       "      <td>Russia</td>\n",
       "      <td>...</td>\n",
       "      <td>f83c56c21</td>\n",
       "      <td>1</td>\n",
       "      <td>Grandmaster</td>\n",
       "      <td>Hot</td>\n",
       "      <td>a</td>\n",
       "      <td>A</td>\n",
       "      <td>bF</td>\n",
       "      <td>7</td>\n",
       "      <td>8</td>\n",
       "      <td>0</td>\n",
       "    </tr>\n",
       "    <tr>\n",
       "      <th>2</th>\n",
       "      <td>2</td>\n",
       "      <td>0</td>\n",
       "      <td>0</td>\n",
       "      <td>0</td>\n",
       "      <td>F</td>\n",
       "      <td>Y</td>\n",
       "      <td>Blue</td>\n",
       "      <td>Trapezoid</td>\n",
       "      <td>Lion</td>\n",
       "      <td>Russia</td>\n",
       "      <td>...</td>\n",
       "      <td>ae6800dd0</td>\n",
       "      <td>1</td>\n",
       "      <td>Expert</td>\n",
       "      <td>Lava Hot</td>\n",
       "      <td>h</td>\n",
       "      <td>R</td>\n",
       "      <td>Jc</td>\n",
       "      <td>7</td>\n",
       "      <td>2</td>\n",
       "      <td>0</td>\n",
       "    </tr>\n",
       "    <tr>\n",
       "      <th>3</th>\n",
       "      <td>3</td>\n",
       "      <td>0</td>\n",
       "      <td>1</td>\n",
       "      <td>0</td>\n",
       "      <td>F</td>\n",
       "      <td>Y</td>\n",
       "      <td>Red</td>\n",
       "      <td>Trapezoid</td>\n",
       "      <td>Snake</td>\n",
       "      <td>Canada</td>\n",
       "      <td>...</td>\n",
       "      <td>8270f0d71</td>\n",
       "      <td>1</td>\n",
       "      <td>Grandmaster</td>\n",
       "      <td>Boiling Hot</td>\n",
       "      <td>i</td>\n",
       "      <td>D</td>\n",
       "      <td>kW</td>\n",
       "      <td>2</td>\n",
       "      <td>1</td>\n",
       "      <td>1</td>\n",
       "    </tr>\n",
       "    <tr>\n",
       "      <th>4</th>\n",
       "      <td>4</td>\n",
       "      <td>0</td>\n",
       "      <td>0</td>\n",
       "      <td>0</td>\n",
       "      <td>F</td>\n",
       "      <td>N</td>\n",
       "      <td>Red</td>\n",
       "      <td>Trapezoid</td>\n",
       "      <td>Lion</td>\n",
       "      <td>Canada</td>\n",
       "      <td>...</td>\n",
       "      <td>b164b72a7</td>\n",
       "      <td>1</td>\n",
       "      <td>Grandmaster</td>\n",
       "      <td>Freezing</td>\n",
       "      <td>a</td>\n",
       "      <td>R</td>\n",
       "      <td>qP</td>\n",
       "      <td>7</td>\n",
       "      <td>8</td>\n",
       "      <td>0</td>\n",
       "    </tr>\n",
       "  </tbody>\n",
       "</table>\n",
       "<p>5 rows × 25 columns</p>\n",
       "</div>"
      ],
      "text/plain": [
       "   id  bin_0  bin_1  bin_2 bin_3 bin_4  nom_0      nom_1    nom_2    nom_3  \\\n",
       "0   0      0      0      0     T     Y  Green   Triangle    Snake  Finland   \n",
       "1   1      0      1      0     T     Y  Green  Trapezoid  Hamster   Russia   \n",
       "2   2      0      0      0     F     Y   Blue  Trapezoid     Lion   Russia   \n",
       "3   3      0      1      0     F     Y    Red  Trapezoid    Snake   Canada   \n",
       "4   4      0      0      0     F     N    Red  Trapezoid     Lion   Canada   \n",
       "\n",
       "   ...      nom_9 ord_0        ord_1        ord_2 ord_3 ord_4  ord_5 day  \\\n",
       "0  ...  2f4cb3d51     2  Grandmaster         Cold     h     D     kr   2   \n",
       "1  ...  f83c56c21     1  Grandmaster          Hot     a     A     bF   7   \n",
       "2  ...  ae6800dd0     1       Expert     Lava Hot     h     R     Jc   7   \n",
       "3  ...  8270f0d71     1  Grandmaster  Boiling Hot     i     D     kW   2   \n",
       "4  ...  b164b72a7     1  Grandmaster     Freezing     a     R     qP   7   \n",
       "\n",
       "  month target  \n",
       "0     2      0  \n",
       "1     8      0  \n",
       "2     2      0  \n",
       "3     1      1  \n",
       "4     8      0  \n",
       "\n",
       "[5 rows x 25 columns]"
      ]
     },
     "execution_count": 10,
     "metadata": {},
     "output_type": "execute_result"
    }
   ],
   "source": [
    "train.head()"
   ]
  },
  {
   "cell_type": "code",
   "execution_count": 11,
   "metadata": {},
   "outputs": [
    {
     "name": "stdout",
     "output_type": "stream",
     "text": [
      "<class 'pandas.core.frame.DataFrame'>\n",
      "RangeIndex: 300000 entries, 0 to 299999\n",
      "Data columns (total 25 columns):\n",
      "id        300000 non-null int64\n",
      "bin_0     300000 non-null int64\n",
      "bin_1     300000 non-null int64\n",
      "bin_2     300000 non-null int64\n",
      "bin_3     300000 non-null object\n",
      "bin_4     300000 non-null object\n",
      "nom_0     300000 non-null object\n",
      "nom_1     300000 non-null object\n",
      "nom_2     300000 non-null object\n",
      "nom_3     300000 non-null object\n",
      "nom_4     300000 non-null object\n",
      "nom_5     300000 non-null object\n",
      "nom_6     300000 non-null object\n",
      "nom_7     300000 non-null object\n",
      "nom_8     300000 non-null object\n",
      "nom_9     300000 non-null object\n",
      "ord_0     300000 non-null int64\n",
      "ord_1     300000 non-null object\n",
      "ord_2     300000 non-null object\n",
      "ord_3     300000 non-null object\n",
      "ord_4     300000 non-null object\n",
      "ord_5     300000 non-null object\n",
      "day       300000 non-null int64\n",
      "month     300000 non-null int64\n",
      "target    300000 non-null int64\n",
      "dtypes: int64(8), object(17)\n",
      "memory usage: 57.2+ MB\n"
     ]
    }
   ],
   "source": [
    "summary = resumetable(train)\n",
    "summary"
   ]
  },
  {
   "cell_type": "markdown",
   "metadata": {},
   "source": [
    "There is no NA at all, it's strongly unlikely in real case, but whatever.\n",
    "Let's define the target and the explicatives variables :"
   ]
  },
  {
   "cell_type": "code",
   "execution_count": 7,
   "metadata": {},
   "outputs": [],
   "source": [
    "X = train.drop(['target'], axis = 1)\n",
    "y = train.target"
   ]
  },
  {
   "cell_type": "code",
   "execution_count": 19,
   "metadata": {},
   "outputs": [
    {
     "data": {
      "image/png": "[encoded data removed]",
      "text/plain": [
       "<Figure size 432x288 with 1 Axes>"
      ]
     },
     "metadata": {
      "needs_background": "light"
     },
     "output_type": "display_data"
    }
   ],
   "source": [
    "x = y.value_counts()\n",
    "\n",
    "plt.bar(x.index, x)\n",
    "plt.gca().set_xticks([0,1])\n",
    "plt.title('Distribution of target variable')\n",
    "plt.show;"
   ]
  },
  {
   "cell_type": "markdown",
   "metadata": {},
   "source": [
    "It seems our data is unbalanced, the modality 0 is two times bigger than the modality 1. It could be problematic, we shall see."
   ]
  },
  {
   "cell_type": "markdown",
   "metadata": {},
   "source": [
    "Before getting into encoding,I will just brief you with types data variables present in this data:\n",
    "- **Binary data** : A  binary variable a variable that has only 2 values : (0,1).\n",
    "- **Categorical data** : A categorical variable is a variable that can take some limited number of values.for example,day of the week.It can be one of 1,2,3,4,5,6,7 only.\n",
    "- **Ordinal data** : An ordinal variable is a categorical variable that has some order associated with it.for example,the ratings that are given to a movie by a user.\n",
    "- **Nominal data** :  Nominal value is a variable that has no numerical importance,such as occupation,person name etc..\n",
    "- **Timeseries data** : Time series data has a temporal value attached to it, so this would be something like a date or a time stamp that you can look for trends in time."
   ]
  },
  {
   "cell_type": "markdown",
   "metadata": {},
   "source": [
    "### Binary features"
   ]
  },
  {
   "cell_type": "code",
   "execution_count": 14,
   "metadata": {},
   "outputs": [
    {
     "data": {
      "image/png": "[encoded data removed]",
      "text/plain": [
       "<Figure size 1152x1440 with 5 Axes>"
      ]
     },
     "metadata": {
      "needs_background": "light"
     },
     "output_type": "display_data"
    }
   ],
   "source": [
    "bin_cols = ['bin_0', 'bin_1', 'bin_2', 'bin_3', 'bin_4']\n",
    "\n",
    "#Looking the V's features\n",
    "import matplotlib.gridspec as gridspec # to do the grid of plots\n",
    "grid = gridspec.GridSpec(3, 2) # The grid of chart\n",
    "plt.figure(figsize=(16,20)) # size of figure\n",
    "\n",
    "# loop to get column and the count of plots\n",
    "for n, col in enumerate(train[bin_cols]): \n",
    "    ax = plt.subplot(grid[n]) # feeding the figure of grid\n",
    "    sns.countplot(x=col, data=train, hue='target', palette='hls') \n",
    "    ax.set_ylabel('Count', fontsize=15) # y axis label\n",
    "    ax.set_title(f'{col} Distribution by Target', fontsize=18) # title label\n",
    "    ax.set_xlabel(f'{col} values', fontsize=15) # x axis label\n",
    "    sizes=[] # Get highest values in y\n",
    "\n",
    "    \n",
    "plt.show()\n"
   ]
  },
  {
   "cell_type": "markdown",
   "metadata": {},
   "source": [
    "We can't see any clear pattern to positive values in target.\n",
    "\n",
    "- It's interesting to see that in bin_3 the ratio of target true have the same size in both values\n",
    "- In the other binary features the pattern is very similar."
   ]
  },
  {
   "cell_type": "markdown",
   "metadata": {},
   "source": [
    "### Nominal Features (with more than 2 and less than 15 values)\n",
    "\n",
    "Let's see the distribution of the feature and target Ratio for each value in nominal features"
   ]
  },
  {
   "cell_type": "code",
   "execution_count": 15,
   "metadata": {},
   "outputs": [],
   "source": [
    "nom_cols = ['nom_0', 'nom_1', 'nom_2', 'nom_3', 'nom_4']"
   ]
  },
  {
   "cell_type": "code",
   "execution_count": 20,
   "metadata": {},
   "outputs": [],
   "source": [
    "def ploting_cat_fet(df, cols, vis_row=5, vis_col=2):\n",
    "    \n",
    "    grid = gridspec.GridSpec(vis_row,vis_col) # The grid of chart\n",
    "    plt.figure(figsize=(17, 35)) # size of figure\n",
    "\n",
    "    # loop to get column and the count of plots\n",
    "    for n, col in enumerate(train[cols]): \n",
    "        tmp = pd.crosstab(train[col], train['target'], normalize='index') * 100\n",
    "        tmp = tmp.reset_index()\n",
    "        tmp.rename(columns={0:'No',1:'Yes'}, inplace=True)\n",
    "\n",
    "        ax = plt.subplot(grid[n]) # feeding the figure of grid\n",
    "        sns.countplot(x=col, data=train, order=list(tmp[col].values) , color='green') \n",
    "        ax.set_ylabel('Count', fontsize=15) # y axis label\n",
    "        ax.set_title(f'{col} Distribution by Target', fontsize=18) # title label\n",
    "        ax.set_xlabel(f'{col} values', fontsize=15) # x axis label\n",
    "\n",
    "        # twinX - to build a second yaxis\n",
    "        gt = ax.twinx()\n",
    "        gt = sns.pointplot(x=col, y='Yes', data=tmp,\n",
    "                           order=list(tmp[col].values),\n",
    "                           color='black', legend=False)\n",
    "        gt.set_ylim(tmp['Yes'].min()-5,tmp['Yes'].max()*1.1)\n",
    "        gt.set_ylabel(\"Target %True(1)\", fontsize=16)\n",
    "        sizes=[] # Get highest values in y\n",
    "\n",
    "\n",
    "\n",
    "    plt.subplots_adjust(hspace = 0.5, wspace=.3)\n",
    "    plt.show()"
   ]
  },
  {
   "cell_type": "code",
   "execution_count": 21,
   "metadata": {},
   "outputs": [
    {
     "data": {
      "image/png": "[encoded data removed]",
      "text/plain": [
       "<Figure size 1224x2520 with 10 Axes>"
      ]
     },
     "metadata": {
      "needs_background": "light"
     },
     "output_type": "display_data"
    }
   ],
   "source": [
    "ploting_cat_fet(train, nom_cols, vis_row=5, vis_col=2)"
   ]
  },
  {
   "cell_type": "markdown",
   "metadata": {},
   "source": [
    "Nice!!! We can see clear different patterns between the nominal category values.\n",
    "\n",
    "Some summary of these features:\n",
    "\n",
    "- NOM_0 - Red (~35%) value have the highest % of positive values in the target;\n",
    "\n",
    "- NOM_1 - Triangle(~36%) value have the highest % of positive values in the target;\n",
    "\n",
    "- NOM_2 - Hamster(~36%) value have the highest % of positive values in the target;\n",
    "\n",
    "- NOM_3 - India(~36%) value have the highest % of positive values in the target;\n",
    "\n",
    "- NOM_4 - Theremin(~36%) value have the highest % of positive values in the target;\n",
    "\n",
    "Do you noted something?!\n",
    "All the values with highest % of True values on target, are the category's with lowest frequency on the nominal category's. We need to handle with all these features;\n",
    "As it is nominal and don't have so many values by category's we can transform it in dummy features;"
   ]
  },
  {
   "cell_type": "markdown",
   "metadata": {},
   "source": [
    "### Ordinal Features (with more than 2 and less than 15 values)"
   ]
  },
  {
   "cell_type": "code",
   "execution_count": 22,
   "metadata": {},
   "outputs": [],
   "source": [
    "ord_cols = ['ord_0', 'ord_1', 'ord_2', 'ord_3']"
   ]
  },
  {
   "cell_type": "code",
   "execution_count": 24,
   "metadata": {},
   "outputs": [
    {
     "data": {
      "image/png": "[encoded data removed]",
      "text/plain": [
       "<Figure size 1224x2520 with 8 Axes>"
      ]
     },
     "metadata": {
      "needs_background": "light"
     },
     "output_type": "display_data"
    }
   ],
   "source": [
    "ploting_cat_fet(train, ord_cols, vis_row=5, vis_col=2)"
   ]
  },
  {
   "cell_type": "markdown",
   "metadata": {},
   "source": [
    "Cool! In Ordinal features, the rule of nominal isn't real.\n",
    "We can see that only on ord_0 the highest ratio in target in the less common category"
   ]
  },
  {
   "cell_type": "markdown",
   "metadata": {},
   "source": [
    "*So let's see our first encoding method !*"
   ]
  },
  {
   "cell_type": "markdown",
   "metadata": {},
   "source": [
    "Like I said, I will use the Logistic Regression for now"
   ]
  },
  {
   "cell_type": "markdown",
   "metadata": {},
   "source": [
    "![](https://i.imgflip.com/38r5hz.jpg)"
   ]
  },
  {
   "cell_type": "markdown",
   "metadata": {},
   "source": [
    "## Method 1: Label encoding"
   ]
  },
  {
   "cell_type": "markdown",
   "metadata": {},
   "source": [
    "With Label encoding, we change each categorical data to a number. Each terms will be substituted by a number.\n",
    "\n",
    "I give you a example with ord_2 variable :\n",
    "\n",
    "- Cold will be 1\n",
    "- Hot will be 2\n",
    "- Lava Hot will be 3 and so on.\n",
    "\n",
    "This kind of architecture is much more relevant for machine learning model.\n",
    "\n",
    "We need **Labelencoder** from sklearn module."
   ]
  },
  {
   "cell_type": "code",
   "execution_count": 21,
   "metadata": {},
   "outputs": [
    {
     "data": {
      "text/plain": [
       "id        int64\n",
       "bin_0     int64\n",
       "bin_1     int64\n",
       "bin_2     int64\n",
       "bin_3    object\n",
       "bin_4    object\n",
       "nom_0    object\n",
       "nom_1    object\n",
       "nom_2    object\n",
       "nom_3    object\n",
       "nom_4    object\n",
       "nom_5    object\n",
       "nom_6    object\n",
       "nom_7    object\n",
       "nom_8    object\n",
       "nom_9    object\n",
       "ord_0     int64\n",
       "ord_1    object\n",
       "ord_2    object\n",
       "ord_3    object\n",
       "ord_4    object\n",
       "ord_5    object\n",
       "day       int64\n",
       "month     int64\n",
       "dtype: object"
      ]
     },
     "execution_count": 21,
     "metadata": {},
     "output_type": "execute_result"
    }
   ],
   "source": [
    "X.dtypes"
   ]
  },
  {
   "cell_type": "markdown",
   "metadata": {},
   "source": [
    "We can see that all of our variable who need a encoding with Labelencoder (nominal and ordinal variables) are of the **object** type :"
   ]
  },
  {
   "cell_type": "code",
   "execution_count": 26,
   "metadata": {},
   "outputs": [
    {
     "name": "stdout",
     "output_type": "stream",
     "text": [
      "Wall time: 967 ms\n"
     ]
    },
    {
     "data": {
      "text/html": [
       "<div>\n",
       "<style scoped>\n",
       "    .dataframe tbody tr th:only-of-type {\n",
       "        vertical-align: middle;\n",
       "    }\n",
       "\n",
       "    .dataframe tbody tr th {\n",
       "        vertical-align: top;\n",
       "    }\n",
       "\n",
       "    .dataframe thead th {\n",
       "        text-align: right;\n",
       "    }\n",
       "</style>\n",
       "<table border=\"1\" class=\"dataframe\">\n",
       "  <thead>\n",
       "    <tr style=\"text-align: right;\">\n",
       "      <th></th>\n",
       "      <th>id</th>\n",
       "      <th>bin_0</th>\n",
       "      <th>bin_1</th>\n",
       "      <th>bin_2</th>\n",
       "      <th>bin_3</th>\n",
       "      <th>bin_4</th>\n",
       "      <th>nom_0</th>\n",
       "      <th>nom_1</th>\n",
       "      <th>nom_2</th>\n",
       "      <th>nom_3</th>\n",
       "      <th>...</th>\n",
       "      <th>nom_8</th>\n",
       "      <th>nom_9</th>\n",
       "      <th>ord_0</th>\n",
       "      <th>ord_1</th>\n",
       "      <th>ord_2</th>\n",
       "      <th>ord_3</th>\n",
       "      <th>ord_4</th>\n",
       "      <th>ord_5</th>\n",
       "      <th>day</th>\n",
       "      <th>month</th>\n",
       "    </tr>\n",
       "  </thead>\n",
       "  <tbody>\n",
       "    <tr>\n",
       "      <th>0</th>\n",
       "      <td>0</td>\n",
       "      <td>0</td>\n",
       "      <td>0</td>\n",
       "      <td>0</td>\n",
       "      <td>1</td>\n",
       "      <td>1</td>\n",
       "      <td>1</td>\n",
       "      <td>5</td>\n",
       "      <td>5</td>\n",
       "      <td>3</td>\n",
       "      <td>...</td>\n",
       "      <td>1686</td>\n",
       "      <td>2175</td>\n",
       "      <td>2</td>\n",
       "      <td>2</td>\n",
       "      <td>1</td>\n",
       "      <td>7</td>\n",
       "      <td>3</td>\n",
       "      <td>136</td>\n",
       "      <td>2</td>\n",
       "      <td>2</td>\n",
       "    </tr>\n",
       "    <tr>\n",
       "      <th>1</th>\n",
       "      <td>1</td>\n",
       "      <td>0</td>\n",
       "      <td>1</td>\n",
       "      <td>0</td>\n",
       "      <td>1</td>\n",
       "      <td>1</td>\n",
       "      <td>1</td>\n",
       "      <td>4</td>\n",
       "      <td>3</td>\n",
       "      <td>5</td>\n",
       "      <td>...</td>\n",
       "      <td>650</td>\n",
       "      <td>11635</td>\n",
       "      <td>1</td>\n",
       "      <td>2</td>\n",
       "      <td>3</td>\n",
       "      <td>0</td>\n",
       "      <td>0</td>\n",
       "      <td>93</td>\n",
       "      <td>7</td>\n",
       "      <td>8</td>\n",
       "    </tr>\n",
       "    <tr>\n",
       "      <th>2</th>\n",
       "      <td>2</td>\n",
       "      <td>0</td>\n",
       "      <td>0</td>\n",
       "      <td>0</td>\n",
       "      <td>0</td>\n",
       "      <td>1</td>\n",
       "      <td>0</td>\n",
       "      <td>4</td>\n",
       "      <td>4</td>\n",
       "      <td>5</td>\n",
       "      <td>...</td>\n",
       "      <td>1932</td>\n",
       "      <td>8078</td>\n",
       "      <td>1</td>\n",
       "      <td>1</td>\n",
       "      <td>4</td>\n",
       "      <td>7</td>\n",
       "      <td>17</td>\n",
       "      <td>31</td>\n",
       "      <td>7</td>\n",
       "      <td>2</td>\n",
       "    </tr>\n",
       "  </tbody>\n",
       "</table>\n",
       "<p>3 rows × 24 columns</p>\n",
       "</div>"
      ],
      "text/plain": [
       "   id  bin_0  bin_1  bin_2  bin_3  bin_4  nom_0  nom_1  nom_2  nom_3  ...  \\\n",
       "0   0      0      0      0      1      1      1      5      5      3  ...   \n",
       "1   1      0      1      0      1      1      1      4      3      5  ...   \n",
       "2   2      0      0      0      0      1      0      4      4      5  ...   \n",
       "\n",
       "   nom_8  nom_9  ord_0  ord_1  ord_2  ord_3  ord_4  ord_5  day  month  \n",
       "0   1686   2175      2      2      1      7      3    136    2      2  \n",
       "1    650  11635      1      2      3      0      0     93    7      8  \n",
       "2   1932   8078      1      1      4      7     17     31    7      2  \n",
       "\n",
       "[3 rows x 24 columns]"
      ]
     },
     "execution_count": 26,
     "metadata": {},
     "output_type": "execute_result"
    }
   ],
   "source": [
    "%%time\n",
    "\n",
    "train=pd.DataFrame()\n",
    "Label = LabelEncoder()\n",
    "\n",
    "for c in X.columns:\n",
    "    if(X[c].dtype == 'object') :\n",
    "        train[c] = Label.fit_transform(X[c])\n",
    "    else:\n",
    "        train[c] = X[c]\n",
    "\n",
    "train.head(3)"
   ]
  },
  {
   "cell_type": "markdown",
   "metadata": {},
   "source": [
    "Let's resume :\n",
    "\n",
    "- We initialized our LabelEncoderClass\n",
    "- We called the fit_transform method to fit and transform all of our variables with object dtype\n",
    "\n",
    "Let's see if it work :"
   ]
  },
  {
   "cell_type": "code",
   "execution_count": 5,
   "metadata": {},
   "outputs": [
    {
     "data": {
      "text/html": [
       "<div>\n",
       "<style scoped>\n",
       "    .dataframe tbody tr th:only-of-type {\n",
       "        vertical-align: middle;\n",
       "    }\n",
       "\n",
       "    .dataframe tbody tr th {\n",
       "        vertical-align: top;\n",
       "    }\n",
       "\n",
       "    .dataframe thead th {\n",
       "        text-align: right;\n",
       "    }\n",
       "</style>\n",
       "<table border=\"1\" class=\"dataframe\">\n",
       "  <thead>\n",
       "    <tr style=\"text-align: right;\">\n",
       "      <th></th>\n",
       "      <th>id</th>\n",
       "      <th>bin_0</th>\n",
       "      <th>bin_1</th>\n",
       "      <th>bin_2</th>\n",
       "      <th>bin_3</th>\n",
       "      <th>bin_4</th>\n",
       "      <th>nom_0</th>\n",
       "      <th>nom_1</th>\n",
       "      <th>nom_2</th>\n",
       "      <th>nom_3</th>\n",
       "      <th>...</th>\n",
       "      <th>nom_8</th>\n",
       "      <th>nom_9</th>\n",
       "      <th>ord_0</th>\n",
       "      <th>ord_1</th>\n",
       "      <th>ord_2</th>\n",
       "      <th>ord_3</th>\n",
       "      <th>ord_4</th>\n",
       "      <th>ord_5</th>\n",
       "      <th>day</th>\n",
       "      <th>month</th>\n",
       "    </tr>\n",
       "  </thead>\n",
       "  <tbody>\n",
       "    <tr>\n",
       "      <th>0</th>\n",
       "      <td>0</td>\n",
       "      <td>0</td>\n",
       "      <td>0</td>\n",
       "      <td>0</td>\n",
       "      <td>1</td>\n",
       "      <td>1</td>\n",
       "      <td>1</td>\n",
       "      <td>5</td>\n",
       "      <td>5</td>\n",
       "      <td>3</td>\n",
       "      <td>...</td>\n",
       "      <td>1686</td>\n",
       "      <td>2175</td>\n",
       "      <td>2</td>\n",
       "      <td>2</td>\n",
       "      <td>1</td>\n",
       "      <td>7</td>\n",
       "      <td>3</td>\n",
       "      <td>136</td>\n",
       "      <td>2</td>\n",
       "      <td>2</td>\n",
       "    </tr>\n",
       "    <tr>\n",
       "      <th>1</th>\n",
       "      <td>1</td>\n",
       "      <td>0</td>\n",
       "      <td>1</td>\n",
       "      <td>0</td>\n",
       "      <td>1</td>\n",
       "      <td>1</td>\n",
       "      <td>1</td>\n",
       "      <td>4</td>\n",
       "      <td>3</td>\n",
       "      <td>5</td>\n",
       "      <td>...</td>\n",
       "      <td>650</td>\n",
       "      <td>11635</td>\n",
       "      <td>1</td>\n",
       "      <td>2</td>\n",
       "      <td>3</td>\n",
       "      <td>0</td>\n",
       "      <td>0</td>\n",
       "      <td>93</td>\n",
       "      <td>7</td>\n",
       "      <td>8</td>\n",
       "    </tr>\n",
       "    <tr>\n",
       "      <th>2</th>\n",
       "      <td>2</td>\n",
       "      <td>0</td>\n",
       "      <td>0</td>\n",
       "      <td>0</td>\n",
       "      <td>0</td>\n",
       "      <td>1</td>\n",
       "      <td>0</td>\n",
       "      <td>4</td>\n",
       "      <td>4</td>\n",
       "      <td>5</td>\n",
       "      <td>...</td>\n",
       "      <td>1932</td>\n",
       "      <td>8078</td>\n",
       "      <td>1</td>\n",
       "      <td>1</td>\n",
       "      <td>4</td>\n",
       "      <td>7</td>\n",
       "      <td>17</td>\n",
       "      <td>31</td>\n",
       "      <td>7</td>\n",
       "      <td>2</td>\n",
       "    </tr>\n",
       "    <tr>\n",
       "      <th>3</th>\n",
       "      <td>3</td>\n",
       "      <td>0</td>\n",
       "      <td>1</td>\n",
       "      <td>0</td>\n",
       "      <td>0</td>\n",
       "      <td>1</td>\n",
       "      <td>2</td>\n",
       "      <td>4</td>\n",
       "      <td>5</td>\n",
       "      <td>0</td>\n",
       "      <td>...</td>\n",
       "      <td>629</td>\n",
       "      <td>6056</td>\n",
       "      <td>1</td>\n",
       "      <td>2</td>\n",
       "      <td>0</td>\n",
       "      <td>8</td>\n",
       "      <td>3</td>\n",
       "      <td>134</td>\n",
       "      <td>2</td>\n",
       "      <td>1</td>\n",
       "    </tr>\n",
       "    <tr>\n",
       "      <th>4</th>\n",
       "      <td>4</td>\n",
       "      <td>0</td>\n",
       "      <td>0</td>\n",
       "      <td>0</td>\n",
       "      <td>0</td>\n",
       "      <td>0</td>\n",
       "      <td>2</td>\n",
       "      <td>4</td>\n",
       "      <td>4</td>\n",
       "      <td>0</td>\n",
       "      <td>...</td>\n",
       "      <td>1760</td>\n",
       "      <td>8231</td>\n",
       "      <td>1</td>\n",
       "      <td>2</td>\n",
       "      <td>2</td>\n",
       "      <td>0</td>\n",
       "      <td>17</td>\n",
       "      <td>158</td>\n",
       "      <td>7</td>\n",
       "      <td>8</td>\n",
       "    </tr>\n",
       "  </tbody>\n",
       "</table>\n",
       "<p>5 rows × 24 columns</p>\n",
       "</div>"
      ],
      "text/plain": [
       "   id  bin_0  bin_1  bin_2  bin_3  bin_4  nom_0  nom_1  nom_2  nom_3  ...  \\\n",
       "0   0      0      0      0      1      1      1      5      5      3  ...   \n",
       "1   1      0      1      0      1      1      1      4      3      5  ...   \n",
       "2   2      0      0      0      0      1      0      4      4      5  ...   \n",
       "3   3      0      1      0      0      1      2      4      5      0  ...   \n",
       "4   4      0      0      0      0      0      2      4      4      0  ...   \n",
       "\n",
       "   nom_8  nom_9  ord_0  ord_1  ord_2  ord_3  ord_4  ord_5  day  month  \n",
       "0   1686   2175      2      2      1      7      3    136    2      2  \n",
       "1    650  11635      1      2      3      0      0     93    7      8  \n",
       "2   1932   8078      1      1      4      7     17     31    7      2  \n",
       "3    629   6056      1      2      0      8      3    134    2      1  \n",
       "4   1760   8231      1      2      2      0     17    158    7      8  \n",
       "\n",
       "[5 rows x 24 columns]"
      ]
     },
     "execution_count": 5,
     "metadata": {},
     "output_type": "execute_result"
    }
   ],
   "source": [
    "train.head()"
   ]
  },
  {
   "cell_type": "markdown",
   "metadata": {},
   "source": [
    "It worked ! Let's see if there is no change in the data shape"
   ]
  },
  {
   "cell_type": "code",
   "execution_count": 39,
   "metadata": {},
   "outputs": [
    {
     "data": {
      "text/plain": [
       "(300000, 24)"
      ]
     },
     "execution_count": 39,
     "metadata": {},
     "output_type": "execute_result"
    }
   ],
   "source": [
    "train.shape"
   ]
  },
  {
   "cell_type": "markdown",
   "metadata": {},
   "source": [
    "Not at all !"
   ]
  },
  {
   "cell_type": "code",
   "execution_count": 8,
   "metadata": {},
   "outputs": [],
   "source": [
    "def Logistic(X,y):\n",
    "    X_train, X_test, y_train, y_test = train_test_split(X, y, test_size=0.33, random_state=42)\n",
    "    Logit = LogisticRegression().fit(X_train, y_train)\n",
    "    y_pred = Logit.predict(X_test)\n",
    "    probs = Logit.predict_proba(X_test)\n",
    "    fpr, tpr, seuils = roc_curve(y_test, probs[:,1])\n",
    "    roc_auc = auc(fpr,tpr)\n",
    "    print('The accuracy is :', accuracy_score(y_test, y_pred))\n",
    "    print()\n",
    "    print()\n",
    "    print(pd.crosstab(y_test, y_pred, rownames=['Classe réelle'], colnames=['Classe prédite']))\n",
    "    print()\n",
    "    print()\n",
    "    print(classification_report(y_test, y_pred))\n",
    "    print()\n",
    "    print()\n",
    "    print('Score :', Logit.score(X_test, y_test))\n",
    "    print()\n",
    "    print('roc AUC', roc_auc)"
   ]
  },
  {
   "cell_type": "code",
   "execution_count": 7,
   "metadata": {},
   "outputs": [
    {
     "name": "stderr",
     "output_type": "stream",
     "text": [
      "C:\\Users\\Evan\\Anaconda3\\lib\\site-packages\\sklearn\\linear_model\\logistic.py:433: FutureWarning: Default solver will be changed to 'lbfgs' in 0.22. Specify a solver to silence this warning.\n",
      "  FutureWarning)\n"
     ]
    },
    {
     "name": "stdout",
     "output_type": "stream",
     "text": [
      "The accuracy is : 0.6886969696969697\n",
      "\n",
      "\n",
      "Classe prédite      0     1\n",
      "Classe réelle              \n",
      "0               66613  2037\n",
      "1               28782  1568\n",
      "\n",
      "\n",
      "              precision    recall  f1-score   support\n",
      "\n",
      "           0       0.70      0.97      0.81     68650\n",
      "           1       0.43      0.05      0.09     30350\n",
      "\n",
      "   micro avg       0.69      0.69      0.69     99000\n",
      "   macro avg       0.57      0.51      0.45     99000\n",
      "weighted avg       0.62      0.69      0.59     99000\n",
      "\n",
      "\n",
      "\n",
      "Score : 0.6886969696969697\n",
      "\n",
      "roc AUC 0.5859113301840269\n"
     ]
    }
   ],
   "source": [
    "Logistic(train, y)"
   ]
  },
  {
   "cell_type": "markdown",
   "metadata": {},
   "source": [
    "That's quite bad... My first thought it's because of the unbalance.But that's not the poinr for now, let's focus on each encoding methods."
   ]
  },
  {
   "cell_type": "markdown",
   "metadata": {},
   "source": [
    "## Method 2 : One hot encoding"
   ]
  },
  {
   "cell_type": "markdown",
   "metadata": {},
   "source": [
    "Our second method is encoding each category as a one hot encoding (OHE) vector (or dummy variables). OHE is a representation method that takes each category value and turns it into a binary vector of size |i|(number of values in category i) where all columns are equal to zero besides the category column. Here is a little example:   \n",
    "\n",
    "\n",
    "![](https://miro.medium.com/max/878/1*WXpoiS7HXRC-uwJPYsy1Dg.png)\n",
    "\n",
    "To implement on-hot encoding we will use *get_dummies()* function in *pandas*. This function automatically perform only on the right columns, those who need an One hot encoding."
   ]
  },
  {
   "cell_type": "code",
   "execution_count": null,
   "metadata": {},
   "outputs": [],
   "source": [
    "train=pd.get_dummies(X).astype(np.int8)\n",
    "print('train data set has got {} rows and {} columns'.format(train.shape[0],train.shape[1]))"
   ]
  },
  {
   "cell_type": "markdown",
   "metadata": {},
   "source": [
    "That's quite long.. Alternatively we can use *OneHotEncoder()* method to convert out data to on-hot encoded data.The advantage of this methos is that is uses very less memory/cpu resourses.\n",
    "To do that,we need to :\n",
    "- Import OneHotEncoder from sklean.preprocessing\n",
    "- Initialize the OneHotEncoder\n",
    "- Fit and then transform our data"
   ]
  },
  {
   "cell_type": "code",
   "execution_count": 7,
   "metadata": {},
   "outputs": [
    {
     "name": "stdout",
     "output_type": "stream",
     "text": [
      "train data set has got 300000 rows and 316461 columns\n",
      "Wall time: 2.22 s\n"
     ]
    }
   ],
   "source": [
    "%%time\n",
    "\n",
    "one = OneHotEncoder()\n",
    "one.fit(X)\n",
    "train = one.transform(X)\n",
    "print('train data set has got {} rows and {} columns'.format(train.shape[0],train.shape[1]))"
   ]
  },
  {
   "cell_type": "markdown",
   "metadata": {},
   "source": [
    "Way more efficient and fast ! Many more columns as we can see (24 to 316461)."
   ]
  },
  {
   "cell_type": "markdown",
   "metadata": {},
   "source": [
    "Let's try our metrics with this methods :"
   ]
  },
  {
   "cell_type": "code",
   "execution_count": 8,
   "metadata": {},
   "outputs": [
    {
     "name": "stderr",
     "output_type": "stream",
     "text": [
      "C:\\Users\\Evan\\Anaconda3\\lib\\site-packages\\sklearn\\linear_model\\logistic.py:433: FutureWarning: Default solver will be changed to 'lbfgs' in 0.22. Specify a solver to silence this warning.\n",
      "  FutureWarning)\n"
     ]
    },
    {
     "name": "stdout",
     "output_type": "stream",
     "text": [
      "The accuracy is : 0.7584646464646465\n",
      "\n",
      "\n",
      "Classe prédite      0      1\n",
      "Classe réelle               \n",
      "0               60542   8108\n",
      "1               15804  14546\n",
      "\n",
      "\n",
      "              precision    recall  f1-score   support\n",
      "\n",
      "           0       0.79      0.88      0.84     68650\n",
      "           1       0.64      0.48      0.55     30350\n",
      "\n",
      "   micro avg       0.76      0.76      0.76     99000\n",
      "   macro avg       0.72      0.68      0.69     99000\n",
      "weighted avg       0.75      0.76      0.75     99000\n",
      "\n",
      "\n",
      "\n",
      "Score : 0.7584646464646465\n",
      "\n",
      "roc AUC 0.7957048438285552\n"
     ]
    }
   ],
   "source": [
    "Logistic(train, y)"
   ]
  },
  {
   "cell_type": "markdown",
   "metadata": {},
   "source": [
    "That's better ! But far from perfect !"
   ]
  },
  {
   "cell_type": "markdown",
   "metadata": {},
   "source": [
    "## Method 3 : Feature hashing"
   ]
  },
  {
   "cell_type": "markdown",
   "metadata": {},
   "source": [
    "Feature hashing is a very cool technique to represent categories in a “one hot encoding style” but with a much lower dimensions. In feature hashing we apply a hashing function to the category and then represent it by its indices. for example, if we choose a dimension of 5 to represent “Russia” we will calculate H(Russia) mod 5 = 3 (for example) so Russia representation will be (0,0,1,0,0)."
   ]
  },
  {
   "cell_type": "code",
   "execution_count": 33,
   "metadata": {},
   "outputs": [
    {
     "name": "stdout",
     "output_type": "stream",
     "text": [
      "Wall time: 3.82 s\n"
     ]
    }
   ],
   "source": [
    "%%time\n",
    "\n",
    "X_train_hash = X.copy()\n",
    "\n",
    "for c in X.columns:\n",
    "    X_train_hash[c] = X[c].astype(str)\n",
    "hashing = FeatureHasher(input_type = 'string')\n",
    "train = hashing.transform(X_train_hash.values)"
   ]
  },
  {
   "cell_type": "code",
   "execution_count": 34,
   "metadata": {},
   "outputs": [
    {
     "name": "stdout",
     "output_type": "stream",
     "text": [
      "train hash has 300000 row and 1048576 columns\n"
     ]
    }
   ],
   "source": [
    "print('train hash has {} row and {} columns'. format(train.shape[0], train.shape[1]))"
   ]
  },
  {
   "cell_type": "code",
   "execution_count": 35,
   "metadata": {},
   "outputs": [
    {
     "name": "stdout",
     "output_type": "stream",
     "text": [
      "The accuracy is : 0.7495555555555555\n",
      "\n",
      "\n",
      "Classe prédite      0      1\n",
      "Classe réelle               \n",
      "0               60380   8270\n",
      "1               16524  13826\n",
      "\n",
      "\n",
      "              precision    recall  f1-score   support\n",
      "\n",
      "           0       0.79      0.88      0.83     68650\n",
      "           1       0.63      0.46      0.53     30350\n",
      "\n",
      "   micro avg       0.75      0.75      0.75     99000\n",
      "   macro avg       0.71      0.67      0.68     99000\n",
      "weighted avg       0.74      0.75      0.74     99000\n",
      "\n",
      "\n",
      "\n",
      "Score : 0.7495555555555555\n",
      "\n",
      "roc AUC 0.7791005667071829\n"
     ]
    }
   ],
   "source": [
    "Logistic(train, y)"
   ]
  },
  {
   "cell_type": "markdown",
   "metadata": {},
   "source": [
    "That's slightly worse than One hot encoder but far better than LabelEncoder. Again, far from perfect."
   ]
  },
  {
   "cell_type": "markdown",
   "metadata": {},
   "source": [
    "## Methods 4 : Encoding cyclic features"
   ]
  },
  {
   "cell_type": "markdown",
   "metadata": {},
   "source": [
    "Some of our features are cyclic in nature like day,month etc.\n",
    "\n",
    "A common method for encoding cyclical data is to transform the data into two dimensions using a *sin* and *cosine* transformation."
   ]
  },
  {
   "cell_type": "code",
   "execution_count": 28,
   "metadata": {},
   "outputs": [
    {
     "name": "stdout",
     "output_type": "stream",
     "text": [
      "Wall time: 282 ms\n"
     ]
    },
    {
     "data": {
      "text/html": [
       "<div>\n",
       "<style scoped>\n",
       "    .dataframe tbody tr th:only-of-type {\n",
       "        vertical-align: middle;\n",
       "    }\n",
       "\n",
       "    .dataframe tbody tr th {\n",
       "        vertical-align: top;\n",
       "    }\n",
       "\n",
       "    .dataframe thead th {\n",
       "        text-align: right;\n",
       "    }\n",
       "</style>\n",
       "<table border=\"1\" class=\"dataframe\">\n",
       "  <thead>\n",
       "    <tr style=\"text-align: right;\">\n",
       "      <th></th>\n",
       "      <th>day_sin</th>\n",
       "      <th>day_cos</th>\n",
       "      <th>month_sin</th>\n",
       "      <th>month_cos</th>\n",
       "    </tr>\n",
       "  </thead>\n",
       "  <tbody>\n",
       "    <tr>\n",
       "      <th>0</th>\n",
       "      <td>9.749279e-01</td>\n",
       "      <td>-0.222521</td>\n",
       "      <td>0.866025</td>\n",
       "      <td>0.5</td>\n",
       "    </tr>\n",
       "    <tr>\n",
       "      <th>1</th>\n",
       "      <td>-2.449294e-16</td>\n",
       "      <td>1.000000</td>\n",
       "      <td>-0.866025</td>\n",
       "      <td>-0.5</td>\n",
       "    </tr>\n",
       "    <tr>\n",
       "      <th>2</th>\n",
       "      <td>-2.449294e-16</td>\n",
       "      <td>1.000000</td>\n",
       "      <td>0.866025</td>\n",
       "      <td>0.5</td>\n",
       "    </tr>\n",
       "  </tbody>\n",
       "</table>\n",
       "</div>"
      ],
      "text/plain": [
       "        day_sin   day_cos  month_sin  month_cos\n",
       "0  9.749279e-01 -0.222521   0.866025        0.5\n",
       "1 -2.449294e-16  1.000000  -0.866025       -0.5\n",
       "2 -2.449294e-16  1.000000   0.866025        0.5"
      ]
     },
     "execution_count": 28,
     "metadata": {},
     "output_type": "execute_result"
    }
   ],
   "source": [
    "%%time\n",
    "\n",
    "X_train_cyclic=X.copy()\n",
    "columns=['day','month']\n",
    "for col in columns:\n",
    "    X_train_cyclic[col+'_sin']=np.sin((2*np.pi*X_train_cyclic[col])/max(X_train_cyclic[col]))\n",
    "    X_train_cyclic[col+'_cos']=np.cos((2*np.pi*X_train_cyclic[col])/max(X_train_cyclic[col]))\n",
    "X_train_cyclic=X_train_cyclic.drop(columns,axis=1)\n",
    "\n",
    "X_train_cyclic[['day_sin','day_cos', 'month_sin', 'month_cos']].head(3)"
   ]
  },
  {
   "cell_type": "markdown",
   "metadata": {},
   "source": [
    "Let's one hot encoder other variables :"
   ]
  },
  {
   "cell_type": "code",
   "execution_count": 29,
   "metadata": {},
   "outputs": [
    {
     "name": "stdout",
     "output_type": "stream",
     "text": [
      "train has 300000 row and 316478 columns\n"
     ]
    }
   ],
   "source": [
    "one = OneHotEncoder()\n",
    "one.fit(X_train_cyclic)\n",
    "train = one.transform(X_train_cyclic)\n",
    "\n",
    "print('train has {} row and {} columns'.format(train.shape[0], train.shape[1]))"
   ]
  },
  {
   "cell_type": "code",
   "execution_count": 41,
   "metadata": {},
   "outputs": [
    {
     "name": "stderr",
     "output_type": "stream",
     "text": [
      "C:\\Users\\Evan\\Anaconda3\\lib\\site-packages\\sklearn\\linear_model\\logistic.py:433: FutureWarning: Default solver will be changed to 'lbfgs' in 0.22. Specify a solver to silence this warning.\n",
      "  FutureWarning)\n"
     ]
    },
    {
     "name": "stdout",
     "output_type": "stream",
     "text": [
      "The accuracy is : 0.7585050505050505\n",
      "\n",
      "\n",
      "Classe prédite      0      1\n",
      "Classe réelle               \n",
      "0               60546   8104\n",
      "1               15804  14546\n",
      "\n",
      "\n",
      "              precision    recall  f1-score   support\n",
      "\n",
      "           0       0.79      0.88      0.84     68650\n",
      "           1       0.64      0.48      0.55     30350\n",
      "\n",
      "   micro avg       0.76      0.76      0.76     99000\n",
      "   macro avg       0.72      0.68      0.69     99000\n",
      "weighted avg       0.75      0.76      0.75     99000\n",
      "\n",
      "\n",
      "\n",
      "Score : 0.7585050505050505\n",
      "\n",
      "roc AUC 0.7956999257269224\n"
     ]
    }
   ],
   "source": [
    "Logistic(train,y)"
   ]
  },
  {
   "cell_type": "markdown",
   "metadata": {},
   "source": [
    "That's very similar to the results with just OneHotEncoder, it seems that encoding cyclic feature has been useless."
   ]
  },
  {
   "cell_type": "markdown",
   "metadata": {},
   "source": [
    "## Method 5 : Target encoding"
   ]
  },
  {
   "cell_type": "markdown",
   "metadata": {},
   "source": [
    "Target-based encoding is numerization of categorical variables depending on the target. In this method, we replace the categorical variable with just one new numerical variable and replace each category of the categorical variable with its corresponding probability of the target (if categorical) or average of the target (if numerical). The main drawbacks of this method are its dependency to the distribution of the target, and its lower predictability power compare to the binary encoding method. Let's try anyway.\n",
    "\n",
    "for example,\n",
    "<table style=\"width : 20%\">\n",
    "    <tr>\n",
    "    <th>Country</th>\n",
    "    <th>Target</th>\n",
    "    </tr>\n",
    "    <tr>\n",
    "    <td>India</td>\n",
    "    <td>1</td>\n",
    "    </tr>\n",
    "    <tr>\n",
    "    <td>China</td>\n",
    "    <td>0</td>\n",
    "    </tr>\n",
    "    <tr>\n",
    "    <td>India</td>\n",
    "    <td>0</td>\n",
    "    </tr>\n",
    "    <tr>\n",
    "    <td>China</td>\n",
    "    <td>1</td>\n",
    "    </tr>\n",
    "    </tr>\n",
    "    <tr>\n",
    "    <td>India</td>\n",
    "    <td>1</td>\n",
    "    </tr>\n",
    "</table>\n",
    "\n"
   ]
  },
  {
   "cell_type": "markdown",
   "metadata": {},
   "source": [
    "Encoding for India = [Number of true targets under the label India/ Total Number of targets under the label India] \n",
    "which is 2/3 = 0.66\n",
    "\n",
    "<table style=\"width : 20%\">\n",
    "    <tr>\n",
    "    <th>Country</th>\n",
    "    <th>Target</th>\n",
    "    </tr>\n",
    "    <tr>\n",
    "    <td>India</td>\n",
    "    <td>0.66</td>\n",
    "    </tr>\n",
    "    <tr>\n",
    "    <td>China</td>\n",
    "    <td>0.5</td>\n",
    "    </tr>\n",
    "</table>\n",
    "\n"
   ]
  },
  {
   "cell_type": "code",
   "execution_count": 52,
   "metadata": {},
   "outputs": [
    {
     "name": "stdout",
     "output_type": "stream",
     "text": [
      "Wall time: 2min 39s\n"
     ]
    },
    {
     "data": {
      "text/html": [
       "<div>\n",
       "<style scoped>\n",
       "    .dataframe tbody tr th:only-of-type {\n",
       "        vertical-align: middle;\n",
       "    }\n",
       "\n",
       "    .dataframe tbody tr th {\n",
       "        vertical-align: top;\n",
       "    }\n",
       "\n",
       "    .dataframe thead th {\n",
       "        text-align: right;\n",
       "    }\n",
       "</style>\n",
       "<table border=\"1\" class=\"dataframe\">\n",
       "  <thead>\n",
       "    <tr style=\"text-align: right;\">\n",
       "      <th></th>\n",
       "      <th>id</th>\n",
       "      <th>bin_0</th>\n",
       "      <th>bin_1</th>\n",
       "      <th>bin_2</th>\n",
       "      <th>bin_3</th>\n",
       "      <th>bin_4</th>\n",
       "      <th>nom_0</th>\n",
       "      <th>nom_1</th>\n",
       "      <th>nom_2</th>\n",
       "      <th>nom_3</th>\n",
       "      <th>...</th>\n",
       "      <th>nom_9</th>\n",
       "      <th>ord_0</th>\n",
       "      <th>ord_1</th>\n",
       "      <th>ord_2</th>\n",
       "      <th>ord_3</th>\n",
       "      <th>ord_4</th>\n",
       "      <th>ord_5</th>\n",
       "      <th>day</th>\n",
       "      <th>month</th>\n",
       "      <th>target</th>\n",
       "    </tr>\n",
       "  </thead>\n",
       "  <tbody>\n",
       "    <tr>\n",
       "      <th>0</th>\n",
       "      <td>0</td>\n",
       "      <td>0</td>\n",
       "      <td>0</td>\n",
       "      <td>0</td>\n",
       "      <td>0.302537</td>\n",
       "      <td>0.290107</td>\n",
       "      <td>0.327145</td>\n",
       "      <td>0.360978</td>\n",
       "      <td>0.307162</td>\n",
       "      <td>0.242813</td>\n",
       "      <td>...</td>\n",
       "      <td>0.368421</td>\n",
       "      <td>2</td>\n",
       "      <td>0.403885</td>\n",
       "      <td>0.257877</td>\n",
       "      <td>0.306993</td>\n",
       "      <td>0.208354</td>\n",
       "      <td>0.401186</td>\n",
       "      <td>0.322048</td>\n",
       "      <td>0.244432</td>\n",
       "      <td>0</td>\n",
       "    </tr>\n",
       "    <tr>\n",
       "      <th>1</th>\n",
       "      <td>1</td>\n",
       "      <td>0</td>\n",
       "      <td>1</td>\n",
       "      <td>0</td>\n",
       "      <td>0.302537</td>\n",
       "      <td>0.290107</td>\n",
       "      <td>0.327145</td>\n",
       "      <td>0.290054</td>\n",
       "      <td>0.359209</td>\n",
       "      <td>0.289954</td>\n",
       "      <td>...</td>\n",
       "      <td>0.076923</td>\n",
       "      <td>1</td>\n",
       "      <td>0.403885</td>\n",
       "      <td>0.326315</td>\n",
       "      <td>0.206599</td>\n",
       "      <td>0.186877</td>\n",
       "      <td>0.303880</td>\n",
       "      <td>0.340292</td>\n",
       "      <td>0.327496</td>\n",
       "      <td>0</td>\n",
       "    </tr>\n",
       "    <tr>\n",
       "      <th>2</th>\n",
       "      <td>2</td>\n",
       "      <td>0</td>\n",
       "      <td>0</td>\n",
       "      <td>0</td>\n",
       "      <td>0.309384</td>\n",
       "      <td>0.290107</td>\n",
       "      <td>0.241790</td>\n",
       "      <td>0.290054</td>\n",
       "      <td>0.293085</td>\n",
       "      <td>0.289954</td>\n",
       "      <td>...</td>\n",
       "      <td>0.172414</td>\n",
       "      <td>1</td>\n",
       "      <td>0.317175</td>\n",
       "      <td>0.403126</td>\n",
       "      <td>0.306993</td>\n",
       "      <td>0.351864</td>\n",
       "      <td>0.206843</td>\n",
       "      <td>0.340292</td>\n",
       "      <td>0.244432</td>\n",
       "      <td>0</td>\n",
       "    </tr>\n",
       "    <tr>\n",
       "      <th>3</th>\n",
       "      <td>3</td>\n",
       "      <td>0</td>\n",
       "      <td>1</td>\n",
       "      <td>0</td>\n",
       "      <td>0.309384</td>\n",
       "      <td>0.290107</td>\n",
       "      <td>0.351052</td>\n",
       "      <td>0.290054</td>\n",
       "      <td>0.307162</td>\n",
       "      <td>0.339793</td>\n",
       "      <td>...</td>\n",
       "      <td>0.227273</td>\n",
       "      <td>1</td>\n",
       "      <td>0.403885</td>\n",
       "      <td>0.360961</td>\n",
       "      <td>0.330148</td>\n",
       "      <td>0.208354</td>\n",
       "      <td>0.355985</td>\n",
       "      <td>0.322048</td>\n",
       "      <td>0.255729</td>\n",
       "      <td>1</td>\n",
       "    </tr>\n",
       "  </tbody>\n",
       "</table>\n",
       "<p>4 rows × 25 columns</p>\n",
       "</div>"
      ],
      "text/plain": [
       "   id  bin_0  bin_1  bin_2     bin_3     bin_4     nom_0     nom_1     nom_2  \\\n",
       "0   0      0      0      0  0.302537  0.290107  0.327145  0.360978  0.307162   \n",
       "1   1      0      1      0  0.302537  0.290107  0.327145  0.290054  0.359209   \n",
       "2   2      0      0      0  0.309384  0.290107  0.241790  0.290054  0.293085   \n",
       "3   3      0      1      0  0.309384  0.290107  0.351052  0.290054  0.307162   \n",
       "\n",
       "      nom_3  ...     nom_9  ord_0     ord_1     ord_2     ord_3     ord_4  \\\n",
       "0  0.242813  ...  0.368421      2  0.403885  0.257877  0.306993  0.208354   \n",
       "1  0.289954  ...  0.076923      1  0.403885  0.326315  0.206599  0.186877   \n",
       "2  0.289954  ...  0.172414      1  0.317175  0.403126  0.306993  0.351864   \n",
       "3  0.339793  ...  0.227273      1  0.403885  0.360961  0.330148  0.208354   \n",
       "\n",
       "      ord_5       day     month  target  \n",
       "0  0.401186  0.322048  0.244432       0  \n",
       "1  0.303880  0.340292  0.327496       0  \n",
       "2  0.206843  0.340292  0.244432       0  \n",
       "3  0.355985  0.322048  0.255729       1  \n",
       "\n",
       "[4 rows x 25 columns]"
      ]
     },
     "execution_count": 52,
     "metadata": {},
     "output_type": "execute_result"
    }
   ],
   "source": [
    "%%time\n",
    "\n",
    "train=pd.read_csv('train.csv')\n",
    "\n",
    "X_target=train.copy()\n",
    "X_target['day']=X_target['day'].astype('object')\n",
    "X_target['month']=X_target['month'].astype('object')\n",
    "for col in X_target.columns:\n",
    "    if (X_target[col].dtype=='object'):\n",
    "        target= dict ( X_target.groupby(col)['target'].agg('sum')/X_target.groupby(col)['target'].agg('count'))\n",
    "        X_target[col]=X_target[col].replace(target).values\n",
    "        \n",
    "    \n",
    "    \n",
    "\n",
    "X_target.head(4)"
   ]
  },
  {
   "cell_type": "code",
   "execution_count": 51,
   "metadata": {},
   "outputs": [
    {
     "name": "stderr",
     "output_type": "stream",
     "text": [
      "C:\\Users\\Evan\\Anaconda3\\lib\\site-packages\\sklearn\\linear_model\\logistic.py:433: FutureWarning: Default solver will be changed to 'lbfgs' in 0.22. Specify a solver to silence this warning.\n",
      "  FutureWarning)\n"
     ]
    },
    {
     "name": "stdout",
     "output_type": "stream",
     "text": [
      "The accuracy is : 0.6934343434343434\n",
      "\n",
      "\n",
      "Classe prédite      0\n",
      "Classe réelle        \n",
      "0               68650\n",
      "1               30350\n",
      "\n",
      "\n",
      "              precision    recall  f1-score   support\n",
      "\n",
      "           0       0.69      1.00      0.82     68650\n",
      "           1       0.00      0.00      0.00     30350\n",
      "\n",
      "   micro avg       0.69      0.69      0.69     99000\n",
      "   macro avg       0.35      0.50      0.41     99000\n",
      "weighted avg       0.48      0.69      0.57     99000\n",
      "\n",
      "\n",
      "\n",
      "Score : 0.6934343434343434\n",
      "\n",
      "roc AUC 0.5006928207091099\n"
     ]
    },
    {
     "name": "stderr",
     "output_type": "stream",
     "text": [
      "C:\\Users\\Evan\\Anaconda3\\lib\\site-packages\\sklearn\\metrics\\classification.py:1143: UndefinedMetricWarning: Precision and F-score are ill-defined and being set to 0.0 in labels with no predicted samples.\n",
      "  'precision', 'predicted', average, warn_for)\n"
     ]
    }
   ],
   "source": [
    "Logistic(X_target.drop('target',axis=1),y)"
   ]
  },
  {
   "cell_type": "markdown",
   "metadata": {},
   "source": [
    "That's not good at all... Let's move on."
   ]
  },
  {
   "cell_type": "markdown",
   "metadata": {},
   "source": [
    "# Summary <a id='5'></a>\n",
    "\n",
    "Here you can see the summary of our model performance against each of the encoding techniques we have used.\n",
    "It is clear that OnHotEncoder together with cyclic feature encoding yielded maximum accuracy.\n",
    "\n",
    "\n",
    "<table style=\"width : 50%\">\n",
    "    <tr>\n",
    "    <th>Encoding</th>\n",
    "    <th>Score</th>\n",
    "    <th>Roc AUC</th>\n",
    "    <th>Wall time</th>\n",
    "    </tr>\n",
    "    <tr>\n",
    "    <td>Label Encoding</td>\n",
    "    <td>0.688</td>\n",
    "    <td>0.585</td>\n",
    "    <td>1.01 s</td>\n",
    "    </tr>\n",
    "    <tr>\n",
    "    <td>OnHotEncoder</td>\n",
    "    <td>0.758</td>\n",
    "    <td>0.795</td>\n",
    "    <td>2.22 s</td>\n",
    "    </tr>\n",
    "    <tr>\n",
    "    <td>Feature Hashing</td>\n",
    "    <td>0.749</td>\n",
    "    <td>0.779</td>\n",
    "    <td>3.82 s</td>\n",
    "    </tr>\n",
    "    </tr>\n",
    "    <tr>\n",
    "    <td>Cyclic + OnHotEncoding</td>\n",
    "    <td>0.758</td>\n",
    "    <td>0.795</td>\n",
    "    <td>265 ms</td>\n",
    "    </tr>\n",
    "    </tr>\n",
    "    <tr>\n",
    "    <td>Target encoding</td>\n",
    "    <td>0.693</td>\n",
    "    <td>0.5</td>\n",
    "    <td>2min 39s</td>\n",
    "    </tr>\n",
    "    \n",
    "</table>"
   ]
  },
  {
   "cell_type": "markdown",
   "metadata": {},
   "source": [
    "Here you can see the summary of our model performance against each of the encoding techniques we have used.\n",
    "OnHotEncoder and cyclic feature encoding yielded maximum accuracy and maximum AUC."
   ]
  },
  {
   "cell_type": "code",
   "execution_count": null,
   "metadata": {},
   "outputs": [],
   "source": []
  },
  {
   "cell_type": "markdown",
   "metadata": {},
   "source": [
    "Just in case, let's see if Logistic Regresssion was the best bet :"
   ]
  },
  {
   "cell_type": "code",
   "execution_count": 10,
   "metadata": {},
   "outputs": [],
   "source": [
    "KFold = StratifiedKFold(n_splits=3, random_state=42)\n",
    "scores = {}\n",
    "\n",
    "def score_model(model):\n",
    "    return cross_val_score(model, train, y, scoring='roc_auc', cv = KFold)\n",
    "\n",
    "#.todense()\n",
    "\n",
    "\n",
    "# time: 10s\n",
    "scores['tree'] = score_model(tree.DecisionTreeClassifier())\n",
    "\n",
    "# time: 9s\n",
    "scores['extra_tree'] = score_model(ensemble.ExtraTreesClassifier())\n",
    "\n",
    "# time: 7s\n",
    "scores['forest'] = score_model(ensemble.RandomForestClassifier())\n",
    "\n",
    "# time: 33s\n",
    "scores['ada_boost'] = score_model(ensemble.AdaBoostClassifier())\n",
    "\n",
    "# time: 1min\n",
    "scores['bagging'] = score_model(ensemble.BaggingClassifier())\n",
    "\n",
    "# time: 2min30s\n",
    "scores['grad_boost'] = score_model(ensemble.GradientBoostingClassifier())\n",
    "\n",
    "# time: 49s\n",
    "scores['ridge'] = score_model(linear_model.RidgeClassifier())\n",
    "\n",
    "# time: 4s\n",
    "scores['passive'] = score_model(linear_model.PassiveAggressiveClassifier())\n",
    "\n",
    "# time: 4s\n",
    "scores['sgd'] = score_model(linear_model.SGDClassifier())\n",
    "\n",
    "# time: 3s\n",
    "#scores['gaussian'] = score_model(naive_bayes.GaussianNB())\n",
    "\n",
    "# time: 4min\n",
    "scores['xgboost'] = score_model(xgb.XGBClassifier())\n",
    "\n",
    "scores['LightGBM'] = score_model(LGBMClassifier())\n",
    "\n",
    "scores['LinearSVC'] = score_model(LinearSVC())\n",
    "\n",
    "scores['LR'] = score_model(LogisticRegression())"
   ]
  },
  {
   "cell_type": "code",
   "execution_count": 11,
   "metadata": {},
   "outputs": [
    {
     "name": "stdout",
     "output_type": "stream",
     "text": [
      "Model scores\n",
      "LR            0.795574\n",
      "LinearSVC     0.787192\n",
      "ridge         0.787180\n",
      "sgd           0.787161\n",
      "LightGBM      0.758381\n",
      "ada_boost     0.733590\n",
      "grad_boost    0.727606\n",
      "passive       0.727055\n",
      "xgboost       0.726703\n",
      "bagging       0.675271\n",
      "extra_tree    0.626520\n",
      "forest        0.624351\n",
      "tree          0.573840\n",
      "dtype: float64\n"
     ]
    }
   ],
   "source": [
    "# Print the scores (with undersampling and 50k data)\n",
    "model_scores = pd.DataFrame(scores).mean()\n",
    "model_scores = model_scores.sort_values(ascending=False)\n",
    "#model_scores.to_csv('model_scores.csv', index=False)\n",
    "print('Model scores\\n{}'.format(model_scores))"
   ]
  },
  {
   "cell_type": "markdown",
   "metadata": {},
   "source": [
    "It was ! Perfect, it seems our intuition was well founded."
   ]
  }
 ],
 "metadata": {
  "kernelspec": {
   "display_name": "Python 3",
   "language": "python",
   "name": "python3"
  },
  "language_info": {
   "codemirror_mode": {
    "name": "ipython",
    "version": 3
   },
   "file_extension": ".py",
   "mimetype": "text/x-python",
   "name": "python",
   "nbconvert_exporter": "python",
   "pygments_lexer": "ipython3",
   "version": "3.6.8"
  }
 },
 "nbformat": 4,
 "nbformat_minor": 2
}
